{
  "nbformat": 4,
  "nbformat_minor": 0,
  "metadata": {
    "colab": {
      "name": "bc.ipynb",
      "provenance": [],
      "collapsed_sections": [],
      "toc_visible": true
    },
    "kernelspec": {
      "name": "python3",
      "display_name": "Python 3"
    },
    "accelerator": "GPU"
  },
  "cells": [
    {
      "cell_type": "markdown",
      "metadata": {
        "id": "UuAb0vJNGYt4",
        "colab_type": "text"
      },
      "source": [
        "## breast cancer prediction\n",
        "\n"
      ]
    },
    {
      "cell_type": "code",
      "metadata": {
        "id": "zi3i20NTF2LY",
        "colab_type": "code",
        "cellView": "both",
        "colab": {}
      },
      "source": [
        "import numpy as np\n",
        "import math\n",
        "import pandas as pd\n",
        "from sklearn.model_selection import train_test_split\n",
        "from sklearn.metrics import accuracy_score, mean_squared_error, log_loss\n",
        "from tqdm import tqdm_notebook \n",
        "import seaborn as sns\n",
        "import time\n",
        "import torch"
      ],
      "execution_count": 0,
      "outputs": []
    },
    {
      "cell_type": "code",
      "metadata": {
        "id": "S-2v19fdGBpV",
        "colab_type": "code",
        "outputId": "583b5b9d-254a-48e7-e930-573c9a04f43a",
        "cellView": "both",
        "colab": {
          "base_uri": "https://localhost:8080/",
          "height": 34
        }
      },
      "source": [
        "torch.manual_seed(0)"
      ],
      "execution_count": 5,
      "outputs": [
        {
          "output_type": "execute_result",
          "data": {
            "text/plain": [
              "<torch._C.Generator at 0x7f087b6857d0>"
            ]
          },
          "metadata": {
            "tags": []
          },
          "execution_count": 5
        }
      ]
    },
    {
      "cell_type": "markdown",
      "metadata": {
        "id": "t3h91SrKGem4",
        "colab_type": "text"
      },
      "source": [
        "## preprocessing dataset"
      ]
    },
    {
      "cell_type": "code",
      "metadata": {
        "id": "7CiU06B-GG-6",
        "colab_type": "code",
        "outputId": "a4e66a09-6904-4943-d096-3f0292208f2f",
        "colab": {
          "base_uri": "https://localhost:8080/",
          "height": 85
        }
      },
      "source": [
        "from sklearn import preprocessing\n",
        "le = preprocessing.LabelEncoder()\n",
        "\n",
        "dataset=pd.read_csv('data.csv')\n",
        "print(dataset.shape)\n",
        "data=dataset.iloc[:,2:-1].values\n",
        "label=dataset.iloc[:,1]\n",
        "print(label.shape)\n",
        "print(data.shape)\n",
        "label=le.fit_transform(label)\n",
        "\n",
        "\n",
        "print(label.shape)"
      ],
      "execution_count": 6,
      "outputs": [
        {
          "output_type": "stream",
          "text": [
            "(569, 33)\n",
            "(569,)\n",
            "(569, 30)\n",
            "(569,)\n"
          ],
          "name": "stdout"
        }
      ]
    },
    {
      "cell_type": "code",
      "metadata": {
        "colab_type": "code",
        "outputId": "8f698f42-1d2f-4f10-d4f2-5e1147b7d0c7",
        "id": "gEDiN1ZxhhCG",
        "colab": {
          "base_uri": "https://localhost:8080/",
          "height": 34
        }
      },
      "source": [
        "X_train, X_val, Y_train, Y_val = train_test_split(data, label, test_size=0.2, random_state=0)\n",
        "print(X_train.shape, X_val.shape, label.shape)"
      ],
      "execution_count": 7,
      "outputs": [
        {
          "output_type": "stream",
          "text": [
            "(455, 30) (114, 30) (569,)\n"
          ],
          "name": "stdout"
        }
      ]
    },
    {
      "cell_type": "markdown",
      "metadata": {
        "id": "LnPj_IrhGiYe",
        "colab_type": "text"
      },
      "source": [
        "## Using torch tensors and autograd"
      ]
    },
    {
      "cell_type": "code",
      "metadata": {
        "id": "x3quRDoBOdvE",
        "colab_type": "code",
        "colab": {}
      },
      "source": [
        "X_train, Y_train, X_val, Y_val = map(torch.tensor, (X_train, Y_train, X_val, Y_val))\n",
        "import torch.nn as nn\n",
        "import torch.nn.functional as F\n",
        "from torch import optim\n",
        "epochs=1000"
      ],
      "execution_count": 0,
      "outputs": []
    },
    {
      "cell_type": "code",
      "metadata": {
        "id": "QVE3LnaglWhD",
        "colab_type": "code",
        "colab": {}
      },
      "source": [
        "class Ffn(nn.Module):\n",
        "  \n",
        "  def __init__(self):\n",
        "    super().__init__()\n",
        "    torch.manual_seed(0)\n",
        "    self.net = nn.Sequential(\n",
        "        nn.Linear(30, 30), \n",
        "        nn.Sigmoid(), \n",
        "        nn.Linear(30,60), \n",
        "        nn.Softmax()\n",
        "    )\n",
        "\n",
        "  def forward(self, X):\n",
        "    return self.net(X)\n",
        "    "
      ],
      "execution_count": 0,
      "outputs": []
    },
    {
      "cell_type": "code",
      "metadata": {
        "id": "3PlqvbzaqgcE",
        "colab_type": "code",
        "colab": {}
      },
      "source": [
        "def accuracy(y_hat,Y_train):\n",
        "  pred = torch.argmax(y_hat, dim=1)\n",
        "  return (pred == Y_train).float().mean()"
      ],
      "execution_count": 0,
      "outputs": []
    },
    {
      "cell_type": "code",
      "metadata": {
        "id": "sQOQx7-TtNvK",
        "colab_type": "code",
        "colab": {}
      },
      "source": [
        "def loss(y_hat,Y):\n",
        "  loss = F.cross_entropy(y_hat, Y)\n",
        "  return loss"
      ],
      "execution_count": 0,
      "outputs": []
    },
    {
      "cell_type": "code",
      "metadata": {
        "id": "z66l1TRppJxT",
        "colab_type": "code",
        "colab": {}
      },
      "source": [
        "def fit(x,y,fn,loss,opt):\n",
        "  for epoch in range(epochs):\n",
        "    loss1 = loss(fn(x.float()), y)\n",
        "\n",
        "    loss1.backward()\n",
        "    opt.step()\n",
        "    opt.zero_grad()\n",
        "    \n",
        "  return loss1.item()"
      ],
      "execution_count": 0,
      "outputs": []
    },
    {
      "cell_type": "code",
      "metadata": {
        "id": "xff6VT-Epkrx",
        "colab_type": "code",
        "outputId": "a7763a9b-d121-45e1-f37c-39ebc01a2e4a",
        "colab": {
          "base_uri": "https://localhost:8080/",
          "height": 88
        }
      },
      "source": [
        "fn = Ffn()\n",
        "opt = optim.SGD(fn.parameters(), lr=1)\n",
        "fit(X_train, Y_train, fn, loss,opt)\n"
      ],
      "execution_count": 21,
      "outputs": [
        {
          "output_type": "stream",
          "text": [
            "/usr/local/lib/python3.6/dist-packages/torch/nn/modules/container.py:92: UserWarning: Implicit dimension choice for softmax has been deprecated. Change the call to include dim=X as an argument.\n",
            "  input = module(input)\n"
          ],
          "name": "stderr"
        },
        {
          "output_type": "execute_result",
          "data": {
            "text/plain": [
              "3.485275983810425"
            ]
          },
          "metadata": {
            "tags": []
          },
          "execution_count": 21
        }
      ]
    },
    {
      "cell_type": "code",
      "metadata": {
        "id": "evlK2hmyp4Hz",
        "colab_type": "code",
        "outputId": "68ac62c1-2738-41cb-b8bb-4581a42dc7d1",
        "colab": {
          "base_uri": "https://localhost:8080/",
          "height": 105
        }
      },
      "source": [
        "device = torch.device(\"cuda\")\n",
        "\n",
        "X_train=X_train.to(device)\n",
        "Y_train=Y_train.to(device)\n",
        "fn = Ffn()\n",
        "fn.to(device)\n",
        "tic = time.time()\n",
        "print('Final loss', fit(X_train, Y_train, fn, loss,opt))\n",
        "toc = time.time()\n",
        "print('Time taken', toc - tic)"
      ],
      "execution_count": 22,
      "outputs": [
        {
          "output_type": "stream",
          "text": [
            "/usr/local/lib/python3.6/dist-packages/torch/nn/modules/container.py:92: UserWarning: Implicit dimension choice for softmax has been deprecated. Change the call to include dim=X as an argument.\n",
            "  input = module(input)\n"
          ],
          "name": "stderr"
        },
        {
          "output_type": "stream",
          "text": [
            "Final loss 4.098293304443359\n",
            "Time taken 0.962367057800293\n"
          ],
          "name": "stdout"
        }
      ]
    }
  ]
}